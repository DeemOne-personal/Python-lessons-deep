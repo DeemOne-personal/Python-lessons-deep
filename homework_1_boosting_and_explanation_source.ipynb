{
  "nbformat": 4,
  "nbformat_minor": 0,
  "metadata": {
    "celltoolbar": "Create Assignment",
    "kernelspec": {
      "display_name": "Python [conda env:ml-mipt]",
      "language": "python",
      "name": "conda-env-ml-mipt-py"
    },
    "language_info": {
      "codemirror_mode": {
        "name": "ipython",
        "version": 3
      },
      "file_extension": ".py",
      "mimetype": "text/x-python",
      "name": "python",
      "nbconvert_exporter": "python",
      "pygments_lexer": "ipython3",
      "version": "3.8.5"
    },
    "toc": {
      "base_numbering": 1,
      "nav_menu": {},
      "number_sections": false,
      "sideBar": true,
      "skip_h1_title": false,
      "title_cell": "Table of Contents",
      "title_sidebar": "Contents",
      "toc_cell": false,
      "toc_position": {},
      "toc_section_display": true,
      "toc_window_display": true
    },
    "colab": {
      "name": "homework_1_boosting_and_explanation_source.ipynb",
      "provenance": [],
      "collapsed_sections": [
        "RSK2Vhd6j3zf"
      ],
      "include_colab_link": true
    }
  },
  "cells": [
    {
      "cell_type": "markdown",
      "metadata": {
        "id": "view-in-github",
        "colab_type": "text"
      },
      "source": [
        "<a href=\"https://colab.research.google.com/github/DeemOne-personal/Python-lessons-deep/blob/main/homework_1_boosting_and_explanation_source.ipynb\" target=\"_parent\"><img src=\"https://colab.research.google.com/assets/colab-badge.svg\" alt=\"Open In Colab\"/></a>"
      ]
    },
    {
      "cell_type": "markdown",
      "metadata": {
        "nbgrader": {
          "grade": false,
          "grade_id": "cell-86e0de040aac317a",
          "locked": true,
          "schema_version": 2,
          "solution": false
        },
        "id": "UpH_zAON47n-"
      },
      "source": [
        "# Homework 1\n",
        "## Gradient boosting on temporal data and feature importances\n"
      ]
    },
    {
      "cell_type": "markdown",
      "metadata": {
        "id": "RK24QhIn47oF"
      },
      "source": [
        "Here we will work with widely known Human Actividy Recognition (HAR) dataset. Data is available at [UCI repository](https://archive.ics.uci.edu/ml/datasets/human+activity+recognition+using+smartphones). Download it and place in `data/` folder in the same directory as this notebook. There are available both raw and preprocessed datasets. This time we will use the preprocessed one.\n",
        "\n",
        "Today we will work with [LightGBM](https://github.com/Microsoft/LightGBM) by Microsoft. It is one of the most popular frameworks these days that shows both great quality and performance.\n",
        "\n",
        "There are another great frameworks (listed below). However, we will stick to `LightGBM` for this task.\n",
        "* [xgboost](https://github.com/dmlc/xgboost) by dlmc. The most famous framework which got very popular on kaggle.\n",
        "* [Catboost](https://github.com/catboost/catboost) by Yandex. Novel framework by Yandex company tuned to deal well with categorical features.\n",
        "\n",
        "Some simple preprocessing is done for you. \n",
        "\n",
        "Your __ultimate target is to get familiar with one of the frameworks above__ and achieve at least 90% accuracy on test dataset and try to get some useful insights on the features the model paid attention to. __Please, use [`shap`](https://github.com/slundberg/shap) and interpret the generated plots (with a brief summary).__\n",
        "\n",
        "_Despite the main language of this notebook is English, feel free to write your thoughts in Russian._"
      ]
    },
    {
      "cell_type": "markdown",
      "metadata": {
        "id": "H8PwRwLM47oH"
      },
      "source": [
        "## Part 0. Preprocessing.\n",
        "The preprocessing is done for you. Let's take a look at the data."
      ]
    },
    {
      "cell_type": "code",
      "metadata": {
        "id": "dnXBi-kL47oI",
        "colab": {
          "base_uri": "https://localhost:8080/"
        },
        "outputId": "664a2255-7aae-4af4-ee0a-c47a692e8756"
      },
      "source": [
        "import matplotlib.pyplot as plt\n",
        "from sklearn.decomposition import PCA\n",
        "\n",
        "#added\n",
        "from google.colab import drive\n",
        "drive.mount('/content/drive')\n",
        "import numpy as np"
      ],
      "execution_count": 3,
      "outputs": [
        {
          "output_type": "stream",
          "text": [
            "Mounted at /content/drive\n"
          ],
          "name": "stdout"
        }
      ]
    },
    {
      "cell_type": "code",
      "metadata": {
        "id": "QloxQrgQ47oJ"
      },
      "source": [
        "X_train = np.genfromtxt('/content/drive/MyDrive/Colab Notebooks/Edu4 - DS MFTI Adv/Files/train/X_train.txt')\n",
        "y_train = np.genfromtxt('/content/drive/MyDrive/Colab Notebooks/Edu4 - DS MFTI Adv/Files/train/y_train.txt')\n",
        "\n",
        "X_test = np.genfromtxt('/content/drive/MyDrive/Colab Notebooks/Edu4 - DS MFTI Adv/Files/test/X_test.txt')\n",
        "y_test = np.genfromtxt('/content/drive/MyDrive/Colab Notebooks/Edu4 - DS MFTI Adv/Files/test/y_test.txt')\n",
        "\n",
        "with open('/content/drive/MyDrive/Colab Notebooks/Edu4 - DS MFTI Adv/Files/activity_labels.txt', 'r') as file:\n",
        "    activity_labels = file.readlines()\n",
        "\n",
        "activity_labels = [x.replace('\\n', '').split(' ') for x in activity_labels]\n",
        "activity_labels = dict([(int(x[0]), x[1]) for x in activity_labels])"
      ],
      "execution_count": 4,
      "outputs": []
    },
    {
      "cell_type": "markdown",
      "metadata": {
        "id": "zps57Z7RroT9"
      },
      "source": [
        "Lets look at the values we want to predict:"
      ]
    },
    {
      "cell_type": "code",
      "metadata": {
        "colab": {
          "base_uri": "https://localhost:8080/"
        },
        "id": "VSuaNqmFL43j",
        "outputId": "e63a42e3-53dc-41bf-fd0f-abc5ca0c29b0"
      },
      "source": [
        "activity_labels"
      ],
      "execution_count": 4,
      "outputs": [
        {
          "output_type": "execute_result",
          "data": {
            "text/plain": [
              "{1: 'WALKING',\n",
              " 2: 'WALKING_UPSTAIRS',\n",
              " 3: 'WALKING_DOWNSTAIRS',\n",
              " 4: 'SITTING',\n",
              " 5: 'STANDING',\n",
              " 6: 'LAYING'}"
            ]
          },
          "metadata": {
            "tags": []
          },
          "execution_count": 4
        }
      ]
    },
    {
      "cell_type": "code",
      "metadata": {
        "id": "8nU6e2hL47oK",
        "colab": {
          "base_uri": "https://localhost:8080/"
        },
        "outputId": "2ef4cb90-e84b-4801-cd54-d6a9698cad2c"
      },
      "source": [
        "print(X_train.shape)\n",
        "data_mean = X_train.mean(axis=0)\n",
        "data_std = X_train.std(axis=0)\n",
        "\n",
        "X_train = (X_train - data_mean)/data_std\n",
        "X_test = (X_test - data_mean)/data_std"
      ],
      "execution_count": 5,
      "outputs": [
        {
          "output_type": "stream",
          "text": [
            "(7352, 561)\n"
          ],
          "name": "stdout"
        }
      ]
    },
    {
      "cell_type": "markdown",
      "metadata": {
        "id": "gBVyRA8l47oL"
      },
      "source": [
        "The dataset has some duplicating features. File `unique_columns.txt` stores the indices of the unique ones. "
      ]
    },
    {
      "cell_type": "code",
      "metadata": {
        "id": "Ybo-GlNW47oL"
      },
      "source": [
        "unique_columns = np.genfromtxt('/content/drive/MyDrive/Colab Notebooks/Edu4 - DS MFTI Adv/Files/unique_columns.txt', delimiter=',').astype(int)\n",
        "X_train_unique = X_train[:, unique_columns]\n",
        "X_test_unique = X_test[:, unique_columns]"
      ],
      "execution_count": 6,
      "outputs": []
    },
    {
      "cell_type": "code",
      "metadata": {
        "colab": {
          "base_uri": "https://localhost:8080/"
        },
        "id": "xB-ZGDt8nWdF",
        "outputId": "1e96589a-a661-438b-8daa-b93ea2527712"
      },
      "source": [
        "#measuring of how does slicing affects on the matrix\n",
        "print('num of the unique columns to apply: '+str(len(unique_columns)))\n",
        "print('initial matrix size:' + str(X_train.shape))\n",
        "print('matrix size after filtering unique columns: '+ str(X_train_unique.shape))"
      ],
      "execution_count": 7,
      "outputs": [
        {
          "output_type": "stream",
          "text": [
            "num of the unique columns to apply: 540\n",
            "initial matrix size:(7352, 561)\n",
            "matrix size after filtering unique columns: (7352, 540)\n"
          ],
          "name": "stdout"
        }
      ]
    },
    {
      "cell_type": "markdown",
      "metadata": {
        "id": "bjaS-A4lmye9"
      },
      "source": [
        "Result is: number of columns (features) decreased 561 -> 540"
      ]
    },
    {
      "cell_type": "code",
      "metadata": {
        "id": "e5ZddgPBgfD-"
      },
      "source": [
        "#just 4 test how slicing works on matrix\n",
        "array = np.arange(75).reshape(5,5,3)\n",
        "array[:,[0,1,2]]\n",
        "print(array.shape)\n"
      ],
      "execution_count": null,
      "outputs": []
    },
    {
      "cell_type": "code",
      "metadata": {
        "id": "P_llsTPepB_7"
      },
      "source": [
        "#https://towardsdatascience.com/pca-using-python-scikit-learn-e653f8989e60\n",
        "from sklearn.preprocessing import StandardScaler\n",
        "print(array)\n",
        "array = np.arange(20).reshape(5,4)\n",
        "array_scaled = StandardScaler().fit_transform(array)\n",
        "print('***********')\n",
        "print(array_scaled)\n",
        "pca =PCA(2)\n",
        "array_PCA = pca.fit_transform(array_scaled)\n",
        "print('***********')\n",
        "print(array_PCA)"
      ],
      "execution_count": null,
      "outputs": []
    },
    {
      "cell_type": "markdown",
      "metadata": {
        "id": "AA3ujh6947oM"
      },
      "source": [
        "PCA could be useful in this case. E.g."
      ]
    },
    {
      "cell_type": "markdown",
      "metadata": {
        "id": "ZIDz4BNLlc0m"
      },
      "source": [
        "Added more information:\n",
        "\n",
        "https://towardsdatascience.com/pca-using-python-scikit-learn-e653f8989e60\n",
        "\n",
        "https://jakevdp.github.io/PythonDataScienceHandbook/05.09-principal-component-analysis.html"
      ]
    },
    {
      "cell_type": "code",
      "metadata": {
        "id": "TU9mWjQj47oM",
        "colab": {
          "base_uri": "https://localhost:8080/"
        },
        "outputId": "8d83979d-f47b-4d79-a28a-29457f9f972a"
      },
      "source": [
        "pca = PCA(0.8)\n",
        "X_train_pca = pca.fit_transform(X_train_unique)\n",
        "X_test_pca = pca.transform(X_test_unique)\n",
        "print('train: '+str(X_train_pca.shape))\n",
        "print('test: '+str(X_test_pca.shape))"
      ],
      "execution_count": 11,
      "outputs": [
        {
          "output_type": "stream",
          "text": [
            "train: (7352, 27)\n",
            "test: (2947, 27)\n"
          ],
          "name": "stdout"
        }
      ]
    },
    {
      "cell_type": "code",
      "metadata": {
        "id": "briWnWlU47oO",
        "colab": {
          "base_uri": "https://localhost:8080/",
          "height": 296
        },
        "outputId": "c6645eab-8653-4b12-bdbf-dbf574b6491f"
      },
      "source": [
        "plt.scatter(X_train_pca[:1000, 0], X_train_pca[:1000, 1], c=y_train[:1000])\n",
        "plt.grid()\n",
        "plt.xlabel('Principal component 1')\n",
        "plt.ylabel('Principal component 2')"
      ],
      "execution_count": 72,
      "outputs": [
        {
          "output_type": "execute_result",
          "data": {
            "text/plain": [
              "Text(0, 0.5, 'Principal component 2')"
            ]
          },
          "metadata": {
            "tags": []
          },
          "execution_count": 72
        },
        {
          "output_type": "display_data",
          "data": {
            "image/png": "[encoded data removed]",
            "text/plain": [
              "<Figure size 432x288 with 1 Axes>"
            ]
          },
          "metadata": {
            "tags": [],
            "needs_background": "light"
          }
        }
      ]
    },
    {
      "cell_type": "code",
      "metadata": {
        "id": "RI55nQBO47oO",
        "colab": {
          "base_uri": "https://localhost:8080/",
          "height": 296
        },
        "outputId": "56e86177-7caa-4155-9b4d-7c2718d34ff8"
      },
      "source": [
        "plt.scatter(X_train_pca[:1000, 3], X_train_pca[:1000, 4], c=y_train[:1000])\n",
        "plt.grid()\n",
        "plt.xlabel('Principal component 4')\n",
        "plt.ylabel('Principal component 5')"
      ],
      "execution_count": 73,
      "outputs": [
        {
          "output_type": "execute_result",
          "data": {
            "text/plain": [
              "Text(0, 0.5, 'Principal component 5')"
            ]
          },
          "metadata": {
            "tags": []
          },
          "execution_count": 73
        },
        {
          "output_type": "display_data",
          "data": {
            "image/png": "[encoded data removed]",
            "text/plain": [
              "<Figure size 432x288 with 1 Axes>"
            ]
          },
          "metadata": {
            "tags": [],
            "needs_background": "light"
          }
        }
      ]
    },
    {
      "cell_type": "markdown",
      "metadata": {
        "id": "HRHi53RO47oO"
      },
      "source": [
        "## Part 1. Fit the model."
      ]
    },
    {
      "cell_type": "markdown",
      "metadata": {
        "id": "P2L8gl-M47oP"
      },
      "source": [
        "Despite optimal parameters (e.g. for xgboost) can be found on the web, we still want you to approximate them by yourself.\n",
        "\n",
        "In this part just check some hyperparams by hand."
      ]
    },
    {
      "cell_type": "markdown",
      "metadata": {
        "id": "Mp1ENlwysy3a"
      },
      "source": [
        "https://xgboost.readthedocs.io/en/latest/parameter.html"
      ]
    },
    {
      "cell_type": "code",
      "metadata": {
        "id": "skqEbetL47oP"
      },
      "source": [
        "### Example: https://rpubs.com/burakh/har_xgb"
      ],
      "execution_count": null,
      "outputs": []
    },
    {
      "cell_type": "code",
      "metadata": {
        "id": "-HLioNq4VwYx"
      },
      "source": [
        "#SKLEARN API\n",
        "#https://xgboost.readthedocs.io/en/latest/\n",
        "\n",
        "import pandas as pd\n",
        "from xgboost import XGBClassifier\n",
        "from sklearn.metrics import classification_report\n",
        "from sklearn.metrics import make_scorer\n",
        "\n",
        "\n",
        "def run_model(X, y, params):\n",
        "  \n",
        "  print(\"X shape is:\" + str(X.shape))\n",
        "  print(\"y shape is:\" + str(y.shape))\n",
        "\n",
        "  model = XGBClassifier(**params)\n",
        "  #print(model.get_params)\n",
        "  print(model.get_xgb_params())\n",
        "\n",
        "  # fit is SKlearn-compatible without encode to xgb.DMatrix\n",
        "  model.fit(X, y)\n",
        "\n",
        "  # predict the target on the train dataset\n",
        "  y_preds = model.predict(X)\n",
        "  print('\\nTargets are: ', y_preds) \n",
        "\n",
        "  # classification report\n",
        "  print('classification report')\n",
        "  score = model.score(X, y)\n",
        "  print(\"Accuracy: {}\".format(score))\n",
        "  print(\"Classification report:\")\n",
        "  print(classification_report(y, y_preds))\n"
      ],
      "execution_count": 126,
      "outputs": []
    },
    {
      "cell_type": "code",
      "metadata": {
        "colab": {
          "base_uri": "https://localhost:8080/"
        },
        "id": "2CguM6CSVz1O",
        "outputId": "7e92726e-b20a-42bc-8e4c-c4b5063b279a"
      },
      "source": [
        "#TRAIN NO PARAMS\n",
        "run_model(X_train_pca, y_train, {})"
      ],
      "execution_count": 125,
      "outputs": [
        {
          "output_type": "stream",
          "text": [
            "X shape is:(7352, 27)\n",
            "y shape is:(7352,)\n",
            "{'base_score': 0.5, 'booster': 'gbtree', 'colsample_bylevel': 1, 'colsample_bynode': 1, 'colsample_bytree': 1, 'gamma': 0, 'learning_rate': 0.1, 'max_delta_step': 0, 'max_depth': 3, 'min_child_weight': 1, 'missing': None, 'n_estimators': 100, 'nthread': 1, 'objective': 'binary:logistic', 'reg_alpha': 0, 'reg_lambda': 1, 'scale_pos_weight': 1, 'seed': 0, 'subsample': 1, 'verbosity': 1}\n",
            "\n",
            "Targets are:  [5. 5. 5. ... 2. 2. 2.]\n",
            "classification report\n",
            "Accuracy: 0.9464091403699674\n",
            "Classification report:\n",
            "              precision    recall  f1-score   support\n",
            "\n",
            "         1.0       0.98      0.98      0.98      1226\n",
            "         2.0       0.98      0.98      0.98      1073\n",
            "         3.0       0.98      0.98      0.98       986\n",
            "         4.0       0.91      0.82      0.87      1286\n",
            "         5.0       0.85      0.93      0.89      1374\n",
            "         6.0       1.00      1.00      1.00      1407\n",
            "\n",
            "    accuracy                           0.95      7352\n",
            "   macro avg       0.95      0.95      0.95      7352\n",
            "weighted avg       0.95      0.95      0.95      7352\n",
            "\n"
          ],
          "name": "stdout"
        }
      ]
    },
    {
      "cell_type": "code",
      "metadata": {
        "colab": {
          "base_uri": "https://localhost:8080/"
        },
        "id": "BAcc2sk5d1sd",
        "outputId": "61516c73-1910-4adc-b4cc-8a8d50554a67"
      },
      "source": [
        "#TRAIN WITH PARAMS\n",
        "params = {'objective':'binary:logistic', 'n_estimators':100, 'learning_rate':1, 'max_depth':8, 'subsample':0.5}\n",
        "run_model(X_train_pca, y_train, params)"
      ],
      "execution_count": 132,
      "outputs": [
        {
          "output_type": "stream",
          "text": [
            "X shape is:(7352, 27)\n",
            "y shape is:(7352,)\n",
            "{'base_score': 0.5, 'booster': 'gbtree', 'colsample_bylevel': 1, 'colsample_bynode': 1, 'colsample_bytree': 1, 'gamma': 0, 'learning_rate': 1, 'max_delta_step': 0, 'max_depth': 8, 'min_child_weight': 1, 'missing': None, 'n_estimators': 100, 'nthread': 1, 'objective': 'binary:logistic', 'reg_alpha': 0, 'reg_lambda': 1, 'scale_pos_weight': 1, 'seed': 0, 'subsample': 0.5, 'verbosity': 1}\n",
            "\n",
            "Targets are:  [5. 5. 5. ... 2. 2. 2.]\n",
            "classification report\n",
            "Accuracy: 1.0\n",
            "Classification report:\n",
            "              precision    recall  f1-score   support\n",
            "\n",
            "         1.0       1.00      1.00      1.00      1226\n",
            "         2.0       1.00      1.00      1.00      1073\n",
            "         3.0       1.00      1.00      1.00       986\n",
            "         4.0       1.00      1.00      1.00      1286\n",
            "         5.0       1.00      1.00      1.00      1374\n",
            "         6.0       1.00      1.00      1.00      1407\n",
            "\n",
            "    accuracy                           1.00      7352\n",
            "   macro avg       1.00      1.00      1.00      7352\n",
            "weighted avg       1.00      1.00      1.00      7352\n",
            "\n"
          ],
          "name": "stdout"
        }
      ]
    },
    {
      "cell_type": "code",
      "metadata": {
        "colab": {
          "base_uri": "https://localhost:8080/"
        },
        "id": "lUiTF_aGem9g",
        "outputId": "bd2b06ad-b040-442b-93e6-ef641a32ca96"
      },
      "source": [
        "#TEST NO PARAMS\n",
        "run_model(X_test_pca, y_test, {})"
      ],
      "execution_count": 121,
      "outputs": [
        {
          "output_type": "stream",
          "text": [
            "X shape is:(2947, 27)\n",
            "y shape is:(2947,)\n",
            "{'base_score': 0.5, 'booster': 'gbtree', 'colsample_bylevel': 1, 'colsample_bynode': 1, 'colsample_bytree': 1, 'gamma': 0, 'learning_rate': 0.1, 'max_delta_step': 0, 'max_depth': 3, 'min_child_weight': 1, 'missing': None, 'n_estimators': 100, 'nthread': 1, 'objective': 'binary:logistic', 'reg_alpha': 0, 'reg_lambda': 1, 'scale_pos_weight': 1, 'seed': 0, 'subsample': 1, 'verbosity': 1}\n",
            "\n",
            "Targets are:  [5. 5. 5. ... 2. 2. 2.]\n",
            "classification report\n",
            "Accuracy: 0.9837122497455039\n",
            "Classification report:\n",
            "              precision    recall  f1-score   support\n",
            "\n",
            "         1.0       0.99      1.00      0.99       496\n",
            "         2.0       1.00      1.00      1.00       471\n",
            "         3.0       1.00      0.99      0.99       420\n",
            "         4.0       0.95      0.97      0.96       491\n",
            "         5.0       0.97      0.95      0.96       532\n",
            "         6.0       1.00      1.00      1.00       537\n",
            "\n",
            "    accuracy                           0.98      2947\n",
            "   macro avg       0.98      0.98      0.98      2947\n",
            "weighted avg       0.98      0.98      0.98      2947\n",
            "\n"
          ],
          "name": "stdout"
        }
      ]
    },
    {
      "cell_type": "code",
      "metadata": {
        "colab": {
          "base_uri": "https://localhost:8080/"
        },
        "id": "57cB4OssjAUa",
        "outputId": "edfa84a3-d074-490e-dceb-41992a4e4236"
      },
      "source": [
        "#TEST WITH PARAMS\n",
        "params = {'objective':'binary:logistic', 'n_estimators':100, 'learning_rate':1}\n",
        "run_model(X_test_pca, y_test, params)"
      ],
      "execution_count": 124,
      "outputs": [
        {
          "output_type": "stream",
          "text": [
            "X shape is:(2947, 27)\n",
            "y shape is:(2947,)\n",
            "{'base_score': 0.5, 'booster': 'gbtree', 'colsample_bylevel': 1, 'colsample_bynode': 1, 'colsample_bytree': 1, 'gamma': 0, 'learning_rate': 1, 'max_delta_step': 0, 'max_depth': 3, 'min_child_weight': 1, 'missing': None, 'n_estimators': 100, 'nthread': 1, 'objective': 'binary:logistic', 'reg_alpha': 0, 'reg_lambda': 1, 'scale_pos_weight': 1, 'seed': 0, 'subsample': 1, 'verbosity': 1}\n",
            "\n",
            "Targets are:  [5. 5. 5. ... 2. 2. 2.]\n",
            "classification report\n",
            "Accuracy: 1.0\n",
            "Classification report:\n",
            "              precision    recall  f1-score   support\n",
            "\n",
            "         1.0       1.00      1.00      1.00       496\n",
            "         2.0       1.00      1.00      1.00       471\n",
            "         3.0       1.00      1.00      1.00       420\n",
            "         4.0       1.00      1.00      1.00       491\n",
            "         5.0       1.00      1.00      1.00       532\n",
            "         6.0       1.00      1.00      1.00       537\n",
            "\n",
            "    accuracy                           1.00      2947\n",
            "   macro avg       1.00      1.00      1.00      2947\n",
            "weighted avg       1.00      1.00      1.00      2947\n",
            "\n"
          ],
          "name": "stdout"
        }
      ]
    },
    {
      "cell_type": "markdown",
      "metadata": {
        "id": "RSK2Vhd6j3zf"
      },
      "source": [
        "#@Экспериментальный код"
      ]
    },
    {
      "cell_type": "code",
      "metadata": {
        "colab": {
          "base_uri": "https://localhost:8080/",
          "height": 0
        },
        "id": "fIvIRJs-VFcq",
        "outputId": "ef19eff6-d151-4568-cf2e-19826095833a"
      },
      "source": [
        "#NATIVE API\n",
        "\n",
        "import pandas as pd\n",
        "from xgboost import XGBClassifier\n",
        "from sklearn.metrics import classification_report\n",
        "from sklearn.metrics import make_scorer\n",
        "\n",
        "\n",
        "def run_model(X, y):\n",
        "  \n",
        "  print(\"X shape is:\" + str(X.shape))\n",
        "  print(\"y shape is:\" + str(y.shape))\n",
        "\n",
        "  X=xgb.DMatrix(X_train_pca)\n",
        "  \n",
        "  # specify parameters via map\n",
        "  param = {'max_depth':2, 'eta':1, 'objective':'binary:logistic' }\n",
        "  num_round = 2\n",
        "  bst = xgb.train(param, X, num_round)\n",
        "  # make prediction\n",
        "  preds = bst.predict(dtest)\n",
        "\n",
        "  # classification report\n",
        "  #score = model.score(X, y)\n",
        "  #print(\"Accuracy: {}\".format(score))\n",
        " # print(\"Classification report:\")\n",
        "  #print(classification_report(y, y_preds))\n",
        "\n",
        "run_model(X_train_pca, y_train)"
      ],
      "execution_count": 75,
      "outputs": [
        {
          "output_type": "stream",
          "text": [
            "X shape is:(7352, 27)\n",
            "y shape is:(7352,)\n"
          ],
          "name": "stdout"
        },
        {
          "output_type": "error",
          "ename": "XGBoostError",
          "evalue": "ignored",
          "traceback": [
            "\u001b[0;31m---------------------------------------------------------------------------\u001b[0m",
            "\u001b[0;31mXGBoostError\u001b[0m                              Traceback (most recent call last)",
            "\u001b[0;32m<ipython-input-75-7a22bbb59e87>\u001b[0m in \u001b[0;36m<module>\u001b[0;34m()\u001b[0m\n\u001b[1;32m     27\u001b[0m   \u001b[0;31m#print(classification_report(y, y_preds))\u001b[0m\u001b[0;34m\u001b[0m\u001b[0;34m\u001b[0m\u001b[0;34m\u001b[0m\u001b[0m\n\u001b[1;32m     28\u001b[0m \u001b[0;34m\u001b[0m\u001b[0m\n\u001b[0;32m---> 29\u001b[0;31m \u001b[0mrun_model\u001b[0m\u001b[0;34m(\u001b[0m\u001b[0mX_train_pca\u001b[0m\u001b[0;34m,\u001b[0m \u001b[0my_train\u001b[0m\u001b[0;34m)\u001b[0m\u001b[0;34m\u001b[0m\u001b[0;34m\u001b[0m\u001b[0m\n\u001b[0m",
            "\u001b[0;32m<ipython-input-75-7a22bbb59e87>\u001b[0m in \u001b[0;36mrun_model\u001b[0;34m(X, y)\u001b[0m\n\u001b[1;32m     17\u001b[0m   \u001b[0mparam\u001b[0m \u001b[0;34m=\u001b[0m \u001b[0;34m{\u001b[0m\u001b[0;34m'max_depth'\u001b[0m\u001b[0;34m:\u001b[0m\u001b[0;36m2\u001b[0m\u001b[0;34m,\u001b[0m \u001b[0;34m'eta'\u001b[0m\u001b[0;34m:\u001b[0m\u001b[0;36m1\u001b[0m\u001b[0;34m,\u001b[0m \u001b[0;34m'objective'\u001b[0m\u001b[0;34m:\u001b[0m\u001b[0;34m'binary:logistic'\u001b[0m \u001b[0;34m}\u001b[0m\u001b[0;34m\u001b[0m\u001b[0;34m\u001b[0m\u001b[0m\n\u001b[1;32m     18\u001b[0m   \u001b[0mnum_round\u001b[0m \u001b[0;34m=\u001b[0m \u001b[0;36m2\u001b[0m\u001b[0;34m\u001b[0m\u001b[0;34m\u001b[0m\u001b[0m\n\u001b[0;32m---> 19\u001b[0;31m   \u001b[0mbst\u001b[0m \u001b[0;34m=\u001b[0m \u001b[0mxgb\u001b[0m\u001b[0;34m.\u001b[0m\u001b[0mtrain\u001b[0m\u001b[0;34m(\u001b[0m\u001b[0mparam\u001b[0m\u001b[0;34m,\u001b[0m \u001b[0mX\u001b[0m\u001b[0;34m,\u001b[0m \u001b[0mnum_round\u001b[0m\u001b[0;34m)\u001b[0m\u001b[0;34m\u001b[0m\u001b[0;34m\u001b[0m\u001b[0m\n\u001b[0m\u001b[1;32m     20\u001b[0m   \u001b[0;31m# make prediction\u001b[0m\u001b[0;34m\u001b[0m\u001b[0;34m\u001b[0m\u001b[0;34m\u001b[0m\u001b[0m\n\u001b[1;32m     21\u001b[0m   \u001b[0mpreds\u001b[0m \u001b[0;34m=\u001b[0m \u001b[0mbst\u001b[0m\u001b[0;34m.\u001b[0m\u001b[0mpredict\u001b[0m\u001b[0;34m(\u001b[0m\u001b[0mdtest\u001b[0m\u001b[0;34m)\u001b[0m\u001b[0;34m\u001b[0m\u001b[0;34m\u001b[0m\u001b[0m\n",
            "\u001b[0;32m/usr/local/lib/python3.7/dist-packages/xgboost/training.py\u001b[0m in \u001b[0;36mtrain\u001b[0;34m(params, dtrain, num_boost_round, evals, obj, feval, maximize, early_stopping_rounds, evals_result, verbose_eval, xgb_model, callbacks, learning_rates)\u001b[0m\n\u001b[1;32m    214\u001b[0m                            \u001b[0mevals\u001b[0m\u001b[0;34m=\u001b[0m\u001b[0mevals\u001b[0m\u001b[0;34m,\u001b[0m\u001b[0;34m\u001b[0m\u001b[0;34m\u001b[0m\u001b[0m\n\u001b[1;32m    215\u001b[0m                            \u001b[0mobj\u001b[0m\u001b[0;34m=\u001b[0m\u001b[0mobj\u001b[0m\u001b[0;34m,\u001b[0m \u001b[0mfeval\u001b[0m\u001b[0;34m=\u001b[0m\u001b[0mfeval\u001b[0m\u001b[0;34m,\u001b[0m\u001b[0;34m\u001b[0m\u001b[0;34m\u001b[0m\u001b[0m\n\u001b[0;32m--> 216\u001b[0;31m                            xgb_model=xgb_model, callbacks=callbacks)\n\u001b[0m\u001b[1;32m    217\u001b[0m \u001b[0;34m\u001b[0m\u001b[0m\n\u001b[1;32m    218\u001b[0m \u001b[0;34m\u001b[0m\u001b[0m\n",
            "\u001b[0;32m/usr/local/lib/python3.7/dist-packages/xgboost/training.py\u001b[0m in \u001b[0;36m_train_internal\u001b[0;34m(params, dtrain, num_boost_round, evals, obj, feval, xgb_model, callbacks)\u001b[0m\n\u001b[1;32m     72\u001b[0m         \u001b[0;31m# Skip the first update if it is a recovery step.\u001b[0m\u001b[0;34m\u001b[0m\u001b[0;34m\u001b[0m\u001b[0;34m\u001b[0m\u001b[0m\n\u001b[1;32m     73\u001b[0m         \u001b[0;32mif\u001b[0m \u001b[0mversion\u001b[0m \u001b[0;34m%\u001b[0m \u001b[0;36m2\u001b[0m \u001b[0;34m==\u001b[0m \u001b[0;36m0\u001b[0m\u001b[0;34m:\u001b[0m\u001b[0;34m\u001b[0m\u001b[0;34m\u001b[0m\u001b[0m\n\u001b[0;32m---> 74\u001b[0;31m             \u001b[0mbst\u001b[0m\u001b[0;34m.\u001b[0m\u001b[0mupdate\u001b[0m\u001b[0;34m(\u001b[0m\u001b[0mdtrain\u001b[0m\u001b[0;34m,\u001b[0m \u001b[0mi\u001b[0m\u001b[0;34m,\u001b[0m \u001b[0mobj\u001b[0m\u001b[0;34m)\u001b[0m\u001b[0;34m\u001b[0m\u001b[0;34m\u001b[0m\u001b[0m\n\u001b[0m\u001b[1;32m     75\u001b[0m             \u001b[0mbst\u001b[0m\u001b[0;34m.\u001b[0m\u001b[0msave_rabit_checkpoint\u001b[0m\u001b[0;34m(\u001b[0m\u001b[0;34m)\u001b[0m\u001b[0;34m\u001b[0m\u001b[0;34m\u001b[0m\u001b[0m\n\u001b[1;32m     76\u001b[0m             \u001b[0mversion\u001b[0m \u001b[0;34m+=\u001b[0m \u001b[0;36m1\u001b[0m\u001b[0;34m\u001b[0m\u001b[0;34m\u001b[0m\u001b[0m\n",
            "\u001b[0;32m/usr/local/lib/python3.7/dist-packages/xgboost/core.py\u001b[0m in \u001b[0;36mupdate\u001b[0;34m(self, dtrain, iteration, fobj)\u001b[0m\n\u001b[1;32m   1107\u001b[0m         \u001b[0;32mif\u001b[0m \u001b[0mfobj\u001b[0m \u001b[0;32mis\u001b[0m \u001b[0;32mNone\u001b[0m\u001b[0;34m:\u001b[0m\u001b[0;34m\u001b[0m\u001b[0;34m\u001b[0m\u001b[0m\n\u001b[1;32m   1108\u001b[0m             _check_call(_LIB.XGBoosterUpdateOneIter(self.handle, ctypes.c_int(iteration),\n\u001b[0;32m-> 1109\u001b[0;31m                                                     dtrain.handle))\n\u001b[0m\u001b[1;32m   1110\u001b[0m         \u001b[0;32melse\u001b[0m\u001b[0;34m:\u001b[0m\u001b[0;34m\u001b[0m\u001b[0;34m\u001b[0m\u001b[0m\n\u001b[1;32m   1111\u001b[0m             \u001b[0mpred\u001b[0m \u001b[0;34m=\u001b[0m \u001b[0mself\u001b[0m\u001b[0;34m.\u001b[0m\u001b[0mpredict\u001b[0m\u001b[0;34m(\u001b[0m\u001b[0mdtrain\u001b[0m\u001b[0;34m)\u001b[0m\u001b[0;34m\u001b[0m\u001b[0;34m\u001b[0m\u001b[0m\n",
            "\u001b[0;32m/usr/local/lib/python3.7/dist-packages/xgboost/core.py\u001b[0m in \u001b[0;36m_check_call\u001b[0;34m(ret)\u001b[0m\n\u001b[1;32m    174\u001b[0m     \"\"\"\n\u001b[1;32m    175\u001b[0m     \u001b[0;32mif\u001b[0m \u001b[0mret\u001b[0m \u001b[0;34m!=\u001b[0m \u001b[0;36m0\u001b[0m\u001b[0;34m:\u001b[0m\u001b[0;34m\u001b[0m\u001b[0;34m\u001b[0m\u001b[0m\n\u001b[0;32m--> 176\u001b[0;31m         \u001b[0;32mraise\u001b[0m \u001b[0mXGBoostError\u001b[0m\u001b[0;34m(\u001b[0m\u001b[0mpy_str\u001b[0m\u001b[0;34m(\u001b[0m\u001b[0m_LIB\u001b[0m\u001b[0;34m.\u001b[0m\u001b[0mXGBGetLastError\u001b[0m\u001b[0;34m(\u001b[0m\u001b[0;34m)\u001b[0m\u001b[0;34m)\u001b[0m\u001b[0;34m)\u001b[0m\u001b[0;34m\u001b[0m\u001b[0;34m\u001b[0m\u001b[0m\n\u001b[0m\u001b[1;32m    177\u001b[0m \u001b[0;34m\u001b[0m\u001b[0m\n\u001b[1;32m    178\u001b[0m \u001b[0;34m\u001b[0m\u001b[0m\n",
            "\u001b[0;31mXGBoostError\u001b[0m: [08:38:41] /workspace/src/objective/regression_obj.cu:64: Check failed: info.labels_.Size() != 0U (0 vs. 0) : label set cannot be empty\nStack trace:\n  [bt] (0) /usr/local/lib/python3.7/dist-packages/xgboost/./lib/libxgboost.so(dmlc::LogMessageFatal::~LogMessageFatal()+0x24) [0x7fbf1e22acb4]\n  [bt] (1) /usr/local/lib/python3.7/dist-packages/xgboost/./lib/libxgboost.so(xgboost::obj::RegLossObj<xgboost::obj::LogisticClassification>::GetGradient(xgboost::HostDeviceVector<float> const&, xgboost::MetaInfo const&, int, xgboost::HostDeviceVector<xgboost::detail::GradientPairInternal<float> >*)+0xf0) [0x7fbf1e4342c0]\n  [bt] (2) /usr/local/lib/python3.7/dist-packages/xgboost/./lib/libxgboost.so(xgboost::LearnerImpl::UpdateOneIter(int, xgboost::DMatrix*)+0x345) [0x7fbf1e2c4505]\n  [bt] (3) /usr/local/lib/python3.7/dist-packages/xgboost/./lib/libxgboost.so(XGBoosterUpdateOneIter+0x35) [0x7fbf1e227aa5]\n  [bt] (4) /usr/lib/x86_64-linux-gnu/libffi.so.6(ffi_call_unix64+0x4c) [0x7fbf58c11dae]\n  [bt] (5) /usr/lib/x86_64-linux-gnu/libffi.so.6(ffi_call+0x22f) [0x7fbf58c1171f]\n  [bt] (6) /usr/lib/python3.7/lib-dynload/_ctypes.cpython-37m-x86_64-linux-gnu.so(_ctypes_callproc+0x28c) [0x7fbf58e255ac]\n  [bt] (7) /usr/lib/python3.7/lib-dynload/_ctypes.cpython-37m-x86_64-linux-gnu.so(+0x109e3) [0x7fbf58e249e3]\n  [bt] (8) /usr/bin/python3(_PyObject_FastCallKeywords+0x92) [0x559f2526e7b2]\n\n"
          ]
        }
      ]
    },
    {
      "cell_type": "code",
      "metadata": {
        "id": "ofE4U2coxLmf"
      },
      "source": [
        "#DEFAULT REALISATION\n",
        "\n",
        "import pandas as pd\n",
        "from xgboost import XGBClassifier\n",
        "from sklearn.metrics import classification_report\n",
        "from sklearn.metrics import make_scorer\n",
        "\n",
        "\n",
        "def run_model(X, y, params):\n",
        "  \n",
        "  print(\"X shape is:\" + str(X.shape))\n",
        "  print(\"y shape is:\" + str(y.shape))\n",
        "\n",
        "  #https://xgboost.readthedocs.io/en/latest/\n",
        "  #\n",
        "  # param_dist = {'objective':'binary:logistic', 'n_estimators':2}\n",
        "\n",
        "  model = XGBClassifier(**params)\n",
        "  for i in model.get_xgb_params():\n",
        "    print(type(i))\n",
        "\n",
        "  # fit the model with the training data\n",
        "  # fit is SKlearn-compatible wrapper is better\n",
        "  # with no need to encode to xgb.DMatrix\n",
        "  model.fit(X, y)\n",
        "\n",
        "  # predict the target on the train dataset\n",
        "  y_preds = model.predict(X)\n",
        "  print('\\nTargets are: ', y_preds) \n",
        "\n",
        "  # classification report\n",
        "  score = model.score(X, y)\n",
        "  print(\"Accuracy: {}\".format(score))\n",
        "  print(\"Classification report:\")\n",
        "  print(classification_report(y, y_preds))"
      ],
      "execution_count": 66,
      "outputs": []
    },
    {
      "cell_type": "markdown",
      "metadata": {
        "id": "-AA3p9DHY0dD"
      },
      "source": [
        "https://stackoverflow.com/questions/47152610/what-is-the-difference-between-xgb-train-and-xgb-xgbregressor-or-xgb-xgbclassif\n"
      ]
    },
    {
      "cell_type": "code",
      "metadata": {
        "colab": {
          "base_uri": "https://localhost:8080/"
        },
        "id": "QTfY0cdKSfPN",
        "outputId": "0f405ee8-fb16-4fb4-fd68-9db69a278a07"
      },
      "source": [
        "#params usage\n",
        "#params = {'eta':1, 'objective':'binary:logistic' }\n",
        "#params={'n_estimators':1000, 'learning_rate':0.05}\n",
        "#'n_estimators=1000, learning_rate=0.05'\n",
        "params = {'objective':'binary:logistic', 'n_estimators':10, 'learning_rate':0.05}\n",
        "run_model(X_train_pca, y_train, params)"
      ],
      "execution_count": 59,
      "outputs": [
        {
          "output_type": "stream",
          "text": [
            "X shape is:(7352, 27)\n",
            "y shape is:(7352,)\n",
            "\n",
            "Targets are:  [4. 5. 5. ... 2. 2. 2.]\n",
            "Accuracy: 0.8254896626768227\n",
            "Classification report:\n",
            "              precision    recall  f1-score   support\n",
            "\n",
            "         1.0       0.80      0.88      0.83      1226\n",
            "         2.0       0.82      0.81      0.82      1073\n",
            "         3.0       0.86      0.78      0.82       986\n",
            "         4.0       0.81      0.60      0.69      1286\n",
            "         5.0       0.74      0.90      0.81      1374\n",
            "         6.0       0.95      0.96      0.95      1407\n",
            "\n",
            "    accuracy                           0.83      7352\n",
            "   macro avg       0.83      0.82      0.82      7352\n",
            "weighted avg       0.83      0.83      0.82      7352\n",
            "\n"
          ],
          "name": "stdout"
        }
      ]
    },
    {
      "cell_type": "markdown",
      "metadata": {
        "id": "zbdlA8kY1hQG"
      },
      "source": [
        "Train score:"
      ]
    },
    {
      "cell_type": "code",
      "metadata": {
        "colab": {
          "base_uri": "https://localhost:8080/"
        },
        "id": "9jiV6NQ31gTK",
        "outputId": "778cc5ba-abb0-4e80-f8b3-fd9dbd2c7ae0"
      },
      "source": [
        "#default params\n",
        "run_model(X_train_pca, y_train,params)"
      ],
      "execution_count": 55,
      "outputs": [
        {
          "output_type": "stream",
          "text": [
            "X shape is:(7352, 27)\n",
            "y shape is:(7352,)\n",
            "\n",
            "Targets are:  [5. 5. 5. ... 2. 2. 2.]\n",
            "Accuracy: 0.9983677910772579\n",
            "Classification report:\n",
            "              precision    recall  f1-score   support\n",
            "\n",
            "         1.0       1.00      1.00      1.00      1226\n",
            "         2.0       1.00      1.00      1.00      1073\n",
            "         3.0       1.00      1.00      1.00       986\n",
            "         4.0       1.00      0.99      1.00      1286\n",
            "         5.0       0.99      1.00      1.00      1374\n",
            "         6.0       1.00      1.00      1.00      1407\n",
            "\n",
            "    accuracy                           1.00      7352\n",
            "   macro avg       1.00      1.00      1.00      7352\n",
            "weighted avg       1.00      1.00      1.00      7352\n",
            "\n"
          ],
          "name": "stdout"
        }
      ]
    },
    {
      "cell_type": "code",
      "metadata": {
        "colab": {
          "base_uri": "https://localhost:8080/",
          "height": 0
        },
        "id": "O0detYICL-Y5",
        "outputId": "94635342-9ebf-4c1d-862f-d70b10acc831"
      },
      "source": [
        ""
      ],
      "execution_count": 36,
      "outputs": [
        {
          "output_type": "stream",
          "text": [
            "X shape is:(7352, 27)\n",
            "y shape is:(7352,)\n"
          ],
          "name": "stdout"
        },
        {
          "output_type": "error",
          "ename": "XGBoostError",
          "evalue": "ignored",
          "traceback": [
            "\u001b[0;31m---------------------------------------------------------------------------\u001b[0m",
            "\u001b[0;31mXGBoostError\u001b[0m                              Traceback (most recent call last)",
            "\u001b[0;32m<ipython-input-36-c701787038c5>\u001b[0m in \u001b[0;36m<module>\u001b[0;34m()\u001b[0m\n\u001b[1;32m      2\u001b[0m \u001b[0;31m#params = {'eta':1, 'objective':'binary:logistic' }\u001b[0m\u001b[0;34m\u001b[0m\u001b[0;34m\u001b[0m\u001b[0;34m\u001b[0m\u001b[0m\n\u001b[1;32m      3\u001b[0m \u001b[0mparams\u001b[0m \u001b[0;34m=\u001b[0m \u001b[0;34m'n_estimators=1000, learning_rate=0.05'\u001b[0m\u001b[0;34m\u001b[0m\u001b[0;34m\u001b[0m\u001b[0m\n\u001b[0;32m----> 4\u001b[0;31m \u001b[0mrun_model\u001b[0m\u001b[0;34m(\u001b[0m\u001b[0mX_train_pca\u001b[0m\u001b[0;34m,\u001b[0m \u001b[0my_train\u001b[0m\u001b[0;34m,\u001b[0m \u001b[0mparams\u001b[0m\u001b[0;34m)\u001b[0m\u001b[0;34m\u001b[0m\u001b[0;34m\u001b[0m\u001b[0m\n\u001b[0m",
            "\u001b[0;32m<ipython-input-35-cc99d297010d>\u001b[0m in \u001b[0;36mrun_model\u001b[0;34m(X, y, params)\u001b[0m\n\u001b[1;32m     17\u001b[0m   \u001b[0;31m# fit is SKlearn-compatible wrapper is better\u001b[0m\u001b[0;34m\u001b[0m\u001b[0;34m\u001b[0m\u001b[0;34m\u001b[0m\u001b[0m\n\u001b[1;32m     18\u001b[0m   \u001b[0;31m# with no need to encode to xgb.DMatrix\u001b[0m\u001b[0;34m\u001b[0m\u001b[0;34m\u001b[0m\u001b[0;34m\u001b[0m\u001b[0m\n\u001b[0;32m---> 19\u001b[0;31m   \u001b[0mmodel\u001b[0m\u001b[0;34m.\u001b[0m\u001b[0mfit\u001b[0m\u001b[0;34m(\u001b[0m\u001b[0mX\u001b[0m\u001b[0;34m,\u001b[0m \u001b[0my\u001b[0m\u001b[0;34m)\u001b[0m\u001b[0;34m\u001b[0m\u001b[0;34m\u001b[0m\u001b[0m\n\u001b[0m\u001b[1;32m     20\u001b[0m \u001b[0;34m\u001b[0m\u001b[0m\n\u001b[1;32m     21\u001b[0m   \u001b[0;31m# predict the target on the train dataset\u001b[0m\u001b[0;34m\u001b[0m\u001b[0;34m\u001b[0m\u001b[0;34m\u001b[0m\u001b[0m\n",
            "\u001b[0;32m/usr/local/lib/python3.7/dist-packages/xgboost/sklearn.py\u001b[0m in \u001b[0;36mfit\u001b[0;34m(self, X, y, sample_weight, eval_set, eval_metric, early_stopping_rounds, verbose, xgb_model, sample_weight_eval_set, callbacks)\u001b[0m\n\u001b[1;32m    730\u001b[0m                               \u001b[0mevals_result\u001b[0m\u001b[0;34m=\u001b[0m\u001b[0mevals_result\u001b[0m\u001b[0;34m,\u001b[0m \u001b[0mobj\u001b[0m\u001b[0;34m=\u001b[0m\u001b[0mobj\u001b[0m\u001b[0;34m,\u001b[0m \u001b[0mfeval\u001b[0m\u001b[0;34m=\u001b[0m\u001b[0mfeval\u001b[0m\u001b[0;34m,\u001b[0m\u001b[0;34m\u001b[0m\u001b[0;34m\u001b[0m\u001b[0m\n\u001b[1;32m    731\u001b[0m                               \u001b[0mverbose_eval\u001b[0m\u001b[0;34m=\u001b[0m\u001b[0mverbose\u001b[0m\u001b[0;34m,\u001b[0m \u001b[0mxgb_model\u001b[0m\u001b[0;34m=\u001b[0m\u001b[0mxgb_model\u001b[0m\u001b[0;34m,\u001b[0m\u001b[0;34m\u001b[0m\u001b[0;34m\u001b[0m\u001b[0m\n\u001b[0;32m--> 732\u001b[0;31m                               callbacks=callbacks)\n\u001b[0m\u001b[1;32m    733\u001b[0m \u001b[0;34m\u001b[0m\u001b[0m\n\u001b[1;32m    734\u001b[0m         \u001b[0mself\u001b[0m\u001b[0;34m.\u001b[0m\u001b[0mobjective\u001b[0m \u001b[0;34m=\u001b[0m \u001b[0mxgb_options\u001b[0m\u001b[0;34m[\u001b[0m\u001b[0;34m\"objective\"\u001b[0m\u001b[0;34m]\u001b[0m\u001b[0;34m\u001b[0m\u001b[0;34m\u001b[0m\u001b[0m\n",
            "\u001b[0;32m/usr/local/lib/python3.7/dist-packages/xgboost/training.py\u001b[0m in \u001b[0;36mtrain\u001b[0;34m(params, dtrain, num_boost_round, evals, obj, feval, maximize, early_stopping_rounds, evals_result, verbose_eval, xgb_model, callbacks, learning_rates)\u001b[0m\n\u001b[1;32m    214\u001b[0m                            \u001b[0mevals\u001b[0m\u001b[0;34m=\u001b[0m\u001b[0mevals\u001b[0m\u001b[0;34m,\u001b[0m\u001b[0;34m\u001b[0m\u001b[0;34m\u001b[0m\u001b[0m\n\u001b[1;32m    215\u001b[0m                            \u001b[0mobj\u001b[0m\u001b[0;34m=\u001b[0m\u001b[0mobj\u001b[0m\u001b[0;34m,\u001b[0m \u001b[0mfeval\u001b[0m\u001b[0;34m=\u001b[0m\u001b[0mfeval\u001b[0m\u001b[0;34m,\u001b[0m\u001b[0;34m\u001b[0m\u001b[0;34m\u001b[0m\u001b[0m\n\u001b[0;32m--> 216\u001b[0;31m                            xgb_model=xgb_model, callbacks=callbacks)\n\u001b[0m\u001b[1;32m    217\u001b[0m \u001b[0;34m\u001b[0m\u001b[0m\n\u001b[1;32m    218\u001b[0m \u001b[0;34m\u001b[0m\u001b[0m\n",
            "\u001b[0;32m/usr/local/lib/python3.7/dist-packages/xgboost/training.py\u001b[0m in \u001b[0;36m_train_internal\u001b[0;34m(params, dtrain, num_boost_round, evals, obj, feval, xgb_model, callbacks)\u001b[0m\n\u001b[1;32m     72\u001b[0m         \u001b[0;31m# Skip the first update if it is a recovery step.\u001b[0m\u001b[0;34m\u001b[0m\u001b[0;34m\u001b[0m\u001b[0;34m\u001b[0m\u001b[0m\n\u001b[1;32m     73\u001b[0m         \u001b[0;32mif\u001b[0m \u001b[0mversion\u001b[0m \u001b[0;34m%\u001b[0m \u001b[0;36m2\u001b[0m \u001b[0;34m==\u001b[0m \u001b[0;36m0\u001b[0m\u001b[0;34m:\u001b[0m\u001b[0;34m\u001b[0m\u001b[0;34m\u001b[0m\u001b[0m\n\u001b[0;32m---> 74\u001b[0;31m             \u001b[0mbst\u001b[0m\u001b[0;34m.\u001b[0m\u001b[0mupdate\u001b[0m\u001b[0;34m(\u001b[0m\u001b[0mdtrain\u001b[0m\u001b[0;34m,\u001b[0m \u001b[0mi\u001b[0m\u001b[0;34m,\u001b[0m \u001b[0mobj\u001b[0m\u001b[0;34m)\u001b[0m\u001b[0;34m\u001b[0m\u001b[0;34m\u001b[0m\u001b[0m\n\u001b[0m\u001b[1;32m     75\u001b[0m             \u001b[0mbst\u001b[0m\u001b[0;34m.\u001b[0m\u001b[0msave_rabit_checkpoint\u001b[0m\u001b[0;34m(\u001b[0m\u001b[0;34m)\u001b[0m\u001b[0;34m\u001b[0m\u001b[0;34m\u001b[0m\u001b[0m\n\u001b[1;32m     76\u001b[0m             \u001b[0mversion\u001b[0m \u001b[0;34m+=\u001b[0m \u001b[0;36m1\u001b[0m\u001b[0;34m\u001b[0m\u001b[0;34m\u001b[0m\u001b[0m\n",
            "\u001b[0;32m/usr/local/lib/python3.7/dist-packages/xgboost/core.py\u001b[0m in \u001b[0;36mupdate\u001b[0;34m(self, dtrain, iteration, fobj)\u001b[0m\n\u001b[1;32m   1107\u001b[0m         \u001b[0;32mif\u001b[0m \u001b[0mfobj\u001b[0m \u001b[0;32mis\u001b[0m \u001b[0;32mNone\u001b[0m\u001b[0;34m:\u001b[0m\u001b[0;34m\u001b[0m\u001b[0;34m\u001b[0m\u001b[0m\n\u001b[1;32m   1108\u001b[0m             _check_call(_LIB.XGBoosterUpdateOneIter(self.handle, ctypes.c_int(iteration),\n\u001b[0;32m-> 1109\u001b[0;31m                                                     dtrain.handle))\n\u001b[0m\u001b[1;32m   1110\u001b[0m         \u001b[0;32melse\u001b[0m\u001b[0;34m:\u001b[0m\u001b[0;34m\u001b[0m\u001b[0;34m\u001b[0m\u001b[0m\n\u001b[1;32m   1111\u001b[0m             \u001b[0mpred\u001b[0m \u001b[0;34m=\u001b[0m \u001b[0mself\u001b[0m\u001b[0;34m.\u001b[0m\u001b[0mpredict\u001b[0m\u001b[0;34m(\u001b[0m\u001b[0mdtrain\u001b[0m\u001b[0;34m)\u001b[0m\u001b[0;34m\u001b[0m\u001b[0;34m\u001b[0m\u001b[0m\n",
            "\u001b[0;32m/usr/local/lib/python3.7/dist-packages/xgboost/core.py\u001b[0m in \u001b[0;36m_check_call\u001b[0;34m(ret)\u001b[0m\n\u001b[1;32m    174\u001b[0m     \"\"\"\n\u001b[1;32m    175\u001b[0m     \u001b[0;32mif\u001b[0m \u001b[0mret\u001b[0m \u001b[0;34m!=\u001b[0m \u001b[0;36m0\u001b[0m\u001b[0;34m:\u001b[0m\u001b[0;34m\u001b[0m\u001b[0;34m\u001b[0m\u001b[0m\n\u001b[0;32m--> 176\u001b[0;31m         \u001b[0;32mraise\u001b[0m \u001b[0mXGBoostError\u001b[0m\u001b[0;34m(\u001b[0m\u001b[0mpy_str\u001b[0m\u001b[0;34m(\u001b[0m\u001b[0m_LIB\u001b[0m\u001b[0;34m.\u001b[0m\u001b[0mXGBGetLastError\u001b[0m\u001b[0;34m(\u001b[0m\u001b[0;34m)\u001b[0m\u001b[0;34m)\u001b[0m\u001b[0;34m)\u001b[0m\u001b[0;34m\u001b[0m\u001b[0;34m\u001b[0m\u001b[0m\n\u001b[0m\u001b[1;32m    177\u001b[0m \u001b[0;34m\u001b[0m\u001b[0m\n\u001b[1;32m    178\u001b[0m \u001b[0;34m\u001b[0m\u001b[0m\n",
            "\u001b[0;31mXGBoostError\u001b[0m: Invalid Parameter format for max_depth expect int but value='n_estimators=1000, learning_rate=0.05'"
          ]
        }
      ]
    },
    {
      "cell_type": "markdown",
      "metadata": {
        "id": "lURmtHIt2bnT"
      },
      "source": [
        "Test score:"
      ]
    },
    {
      "cell_type": "code",
      "metadata": {
        "colab": {
          "base_uri": "https://localhost:8080/"
        },
        "id": "Qh5sYvq91yef",
        "outputId": "b4195ef1-a30a-4cb7-d624-6e41c26eec80"
      },
      "source": [
        "run_model(X_test_pca, y_test)"
      ],
      "execution_count": 128,
      "outputs": [
        {
          "output_type": "stream",
          "text": [
            "X shape is:(2947, 27)\n",
            "y shape is:(2947,)\n",
            "\n",
            "Targets are:  [5. 5. 5. ... 2. 2. 2.]\n",
            "Accuracy: 0.9837122497455039\n",
            "Classification report:\n",
            "              precision    recall  f1-score   support\n",
            "\n",
            "         1.0       0.99      1.00      0.99       496\n",
            "         2.0       1.00      1.00      1.00       471\n",
            "         3.0       1.00      0.99      0.99       420\n",
            "         4.0       0.95      0.97      0.96       491\n",
            "         5.0       0.97      0.95      0.96       532\n",
            "         6.0       1.00      1.00      1.00       537\n",
            "\n",
            "    accuracy                           0.98      2947\n",
            "   macro avg       0.98      0.98      0.98      2947\n",
            "weighted avg       0.98      0.98      0.98      2947\n",
            "\n"
          ],
          "name": "stdout"
        }
      ]
    },
    {
      "cell_type": "markdown",
      "metadata": {
        "id": "1bFQHNFYQNo4"
      },
      "source": [
        "Good result on test data with default parameters"
      ]
    },
    {
      "cell_type": "code",
      "metadata": {
        "colab": {
          "base_uri": "https://localhost:8080/"
        },
        "id": "ACGIkqcEQTsl",
        "outputId": "fe8a777d-9e51-49cd-f160-6253a6171478"
      },
      "source": [
        "import xgboost as xgb\n",
        "import numpy as np\n",
        "from sklearn.model_selection import GridSearchCV\n",
        "from sklearn.model_selection import RandomizedSearchCV\n",
        "from sklearn.datasets import load_boston\n",
        "\n",
        "# Grid Search Parameters\n",
        "grid_search_params = {\n",
        "    'colsample_bytree': [0.3, 0.7],\n",
        "    'learning_rate': [0.01, 0.1, 0.2, 0.5],\n",
        "    'n_estimators': [100],\n",
        "    'subsample': [0.2, 0.5, 0.8],\n",
        "    'max_depth': [2, 3, 5]\n",
        "}\n",
        "\n",
        "xg_grid_reg = xgb.XGBRegressor(objective= \"reg:squarederror\")\n",
        "\n",
        "grid = GridSearchCV(estimator=xg_grid_reg, param_grid=grid_search_params, scoring='neg_mean_squared_error',\n",
        "                    cv=4, verbose=1, iid=True)\n",
        "\n",
        "grid.fit(X_test_pca, y_test)\n",
        "print(\"GridSearchCV\")\n",
        "print(\"Best parameters found: \", grid.best_params_)\n",
        "print(\"Lowest RMSE found: \", np.sqrt(np.abs(grid.best_score_)))"
      ],
      "execution_count": 131,
      "outputs": [
        {
          "output_type": "stream",
          "text": [
            "Fitting 4 folds for each of 72 candidates, totalling 288 fits\n"
          ],
          "name": "stdout"
        },
        {
          "output_type": "stream",
          "text": [
            "[Parallel(n_jobs=1)]: Using backend SequentialBackend with 1 concurrent workers.\n",
            "[Parallel(n_jobs=1)]: Done 288 out of 288 | elapsed:  1.2min finished\n",
            "/usr/local/lib/python3.7/dist-packages/sklearn/model_selection/_search.py:823: FutureWarning: The parameter 'iid' is deprecated in 0.22 and will be removed in 0.24.\n",
            "  \"removed in 0.24.\", FutureWarning\n"
          ],
          "name": "stderr"
        },
        {
          "output_type": "stream",
          "text": [
            "GridSearchCV\n",
            "Best parameters found:  {'colsample_bytree': 0.7, 'learning_rate': 0.1, 'max_depth': 3, 'n_estimators': 100, 'subsample': 0.2}\n",
            "Lowest RMSE found:  0.5430790666068437\n"
          ],
          "name": "stdout"
        }
      ]
    },
    {
      "cell_type": "markdown",
      "metadata": {
        "id": "aJ2nEf6V47oQ"
      },
      "source": [
        "Please, write down your thoughts on the experiment results."
      ]
    },
    {
      "cell_type": "code",
      "metadata": {
        "id": "GSXHd5voPYdp"
      },
      "source": [
        ""
      ],
      "execution_count": null,
      "outputs": []
    },
    {
      "cell_type": "markdown",
      "metadata": {
        "id": "ZJma1O9L47oQ"
      },
      "source": [
        "## Part 2. Use hyper parameter tuning system\n",
        "\n",
        "Use [optuna](https://optuna.org/), [hyperopt](http://hyperopt.github.io/hyperopt/) or any other zero order optimizer to find optimal hyper param set."
      ]
    },
    {
      "cell_type": "code",
      "metadata": {
        "id": "5ZKNE9Iw47oS"
      },
      "source": [
        "# YOUR CODE HERE"
      ],
      "execution_count": null,
      "outputs": []
    },
    {
      "cell_type": "markdown",
      "metadata": {
        "id": "SV6NVNY647oS"
      },
      "source": [
        "### Part 3. Interpret the model predictions\n",
        "Despite you are free to use any approaches to interpret the model predictions, please use [`shap`](https://github.com/slundberg/shap) to build some plots (e.g. the ones we've seen on week02) and try to interpret them."
      ]
    },
    {
      "cell_type": "code",
      "metadata": {
        "id": "4r4Li2xy47oT"
      },
      "source": [
        "import shap\n",
        "\n",
        "# YOUR CODE HERE"
      ],
      "execution_count": null,
      "outputs": []
    },
    {
      "cell_type": "markdown",
      "metadata": {
        "id": "Zwj5BmR-47oT"
      },
      "source": [
        "_Your thoughts about the plots and model behaviour._"
      ]
    },
    {
      "cell_type": "markdown",
      "metadata": {
        "id": "FTw8rRVQM8Om"
      },
      "source": [
        "https://stackoverflow.com/questions/47152610/what-is-the-difference-between-xgb-train-and-xgb-xgbregressor-or-xgb-xgbclassif"
      ]
    }
  ]
}